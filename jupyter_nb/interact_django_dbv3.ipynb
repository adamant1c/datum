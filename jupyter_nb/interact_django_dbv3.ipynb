{
 "cells": [
  {
   "cell_type": "code",
   "execution_count": 42,
   "metadata": {},
   "outputs": [],
   "source": [
    "import pandas as pd\n",
    "import sys, os, django\n",
    "os.environ[\"DJANGO_ALLOW_ASYNC_UNSAFE\"] = \"true\""
   ]
  },
  {
   "cell_type": "code",
   "execution_count": 43,
   "metadata": {},
   "outputs": [],
   "source": [
    "from dieta.models import Tipo_pasto\n",
    "from dieta.models import Ingrediente_Piatto\n",
    "from dieta.models import Ingrediente\n",
    "from dieta.models import Piatti"
   ]
  },
  {
   "cell_type": "code",
   "execution_count": 44,
   "metadata": {},
   "outputs": [],
   "source": [
    "df_piatto=pd.read_csv(\"tab_piatto.csv\")"
   ]
  },
  {
   "cell_type": "code",
   "execution_count": 45,
   "metadata": {},
   "outputs": [
    {
     "name": "stdout",
     "output_type": "stream",
     "text": [
      "<class 'pandas.core.frame.DataFrame'>\n",
      "RangeIndex: 2173 entries, 0 to 2172\n",
      "Data columns (total 7 columns):\n",
      " #   Column              Non-Null Count  Dtype \n",
      "---  ------              --------------  ----- \n",
      " 0   Nome_Piatto         2173 non-null   object\n",
      " 1   Costo_Preparazione  2173 non-null   int64 \n",
      " 2   Categoria           2173 non-null   int64 \n",
      " 3   Descrizione         2173 non-null   object\n",
      " 4   Tempo_Preparazione  2173 non-null   int64 \n",
      " 5   Tempo_Cottura       2173 non-null   int64 \n",
      " 6   Ricetta             2172 non-null   object\n",
      "dtypes: int64(4), object(3)\n",
      "memory usage: 119.0+ KB\n"
     ]
    }
   ],
   "source": [
    "df_piatto.info()"
   ]
  },
  {
   "cell_type": "code",
   "execution_count": 46,
   "metadata": {},
   "outputs": [
    {
     "data": {
      "text/html": [
       "<div>\n",
       "<style scoped>\n",
       "    .dataframe tbody tr th:only-of-type {\n",
       "        vertical-align: middle;\n",
       "    }\n",
       "\n",
       "    .dataframe tbody tr th {\n",
       "        vertical-align: top;\n",
       "    }\n",
       "\n",
       "    .dataframe thead th {\n",
       "        text-align: right;\n",
       "    }\n",
       "</style>\n",
       "<table border=\"1\" class=\"dataframe\">\n",
       "  <thead>\n",
       "    <tr style=\"text-align: right;\">\n",
       "      <th></th>\n",
       "      <th>Nome_Piatto</th>\n",
       "      <th>Costo_Preparazione</th>\n",
       "      <th>Categoria</th>\n",
       "      <th>Descrizione</th>\n",
       "      <th>Tempo_Preparazione</th>\n",
       "      <th>Tempo_Cottura</th>\n",
       "      <th>Ricetta</th>\n",
       "    </tr>\n",
       "  </thead>\n",
       "  <tbody>\n",
       "    <tr>\n",
       "      <th>0</th>\n",
       "      <td>Biscotti alla paprika</td>\n",
       "      <td>0</td>\n",
       "      <td>0</td>\n",
       "      <td>I biscotti alla paprika sono dei deliziosi boc...</td>\n",
       "      <td>20</td>\n",
       "      <td>20</td>\n",
       "      <td>Per preparare i biscotti alla paprika iniziate...</td>\n",
       "    </tr>\n",
       "    <tr>\n",
       "      <th>1</th>\n",
       "      <td>Bastoncini di pasta sfoglia al formaggio</td>\n",
       "      <td>0</td>\n",
       "      <td>0</td>\n",
       "      <td>I bastoncini di pasta sfoglia al formaggio son...</td>\n",
       "      <td>20</td>\n",
       "      <td>0</td>\n",
       "      <td>Per preparare i bastoncini di sfoglia al forma...</td>\n",
       "    </tr>\n",
       "    <tr>\n",
       "      <th>2</th>\n",
       "      <td>Brustengo</td>\n",
       "      <td>1</td>\n",
       "      <td>0</td>\n",
       "      <td>Farina, acqua e sale: una ricetta semplice que...</td>\n",
       "      <td>5</td>\n",
       "      <td>15</td>\n",
       "      <td>Per realizzare il brustengo, per prima cosa pr...</td>\n",
       "    </tr>\n",
       "    <tr>\n",
       "      <th>3</th>\n",
       "      <td>Insalata tiepida di polpo e patate</td>\n",
       "      <td>2</td>\n",
       "      <td>2</td>\n",
       "      <td>L'insalata  tiepida di polpo e patate e un sec...</td>\n",
       "      <td>20</td>\n",
       "      <td>65</td>\n",
       "      <td>Per preparare l’insalata tiepida di polpo e pa...</td>\n",
       "    </tr>\n",
       "    <tr>\n",
       "      <th>4</th>\n",
       "      <td>Insalata di daikon e gamberi</td>\n",
       "      <td>2</td>\n",
       "      <td>0</td>\n",
       "      <td>L'insalata di daikon e gamberi e un antipasto ...</td>\n",
       "      <td>25</td>\n",
       "      <td>0</td>\n",
       "      <td>Per realizzare l’insalata di daikon e gamberi ...</td>\n",
       "    </tr>\n",
       "  </tbody>\n",
       "</table>\n",
       "</div>"
      ],
      "text/plain": [
       "                                Nome_Piatto  Costo_Preparazione  Categoria  \\\n",
       "0                     Biscotti alla paprika                   0          0   \n",
       "1  Bastoncini di pasta sfoglia al formaggio                   0          0   \n",
       "2                                 Brustengo                   1          0   \n",
       "3        Insalata tiepida di polpo e patate                   2          2   \n",
       "4              Insalata di daikon e gamberi                   2          0   \n",
       "\n",
       "                                         Descrizione  Tempo_Preparazione  \\\n",
       "0  I biscotti alla paprika sono dei deliziosi boc...                  20   \n",
       "1  I bastoncini di pasta sfoglia al formaggio son...                  20   \n",
       "2  Farina, acqua e sale: una ricetta semplice que...                   5   \n",
       "3  L'insalata  tiepida di polpo e patate e un sec...                  20   \n",
       "4  L'insalata di daikon e gamberi e un antipasto ...                  25   \n",
       "\n",
       "   Tempo_Cottura                                            Ricetta  \n",
       "0             20  Per preparare i biscotti alla paprika iniziate...  \n",
       "1              0  Per preparare i bastoncini di sfoglia al forma...  \n",
       "2             15  Per realizzare il brustengo, per prima cosa pr...  \n",
       "3             65  Per preparare l’insalata tiepida di polpo e pa...  \n",
       "4              0  Per realizzare l’insalata di daikon e gamberi ...  "
      ]
     },
     "execution_count": 46,
     "metadata": {},
     "output_type": "execute_result"
    }
   ],
   "source": [
    "df_piatto.head()"
   ]
  },
  {
   "cell_type": "code",
   "execution_count": 47,
   "metadata": {},
   "outputs": [
    {
     "name": "stdout",
     "output_type": "stream",
     "text": [
      "<class 'pandas.core.frame.DataFrame'>\n",
      "RangeIndex: 2174 entries, 0 to 2173\n",
      "Data columns (total 9 columns):\n",
      " #   Column           Non-Null Count  Dtype  \n",
      "---  ------           --------------  -----  \n",
      " 0   Nome_Piatto      2174 non-null   object \n",
      " 1   Calorie_kcal     1704 non-null   float64\n",
      " 2   Carboidrati_g    1704 non-null   float64\n",
      " 3   Zuccheri_g       1704 non-null   float64\n",
      " 4   Grassi_g         1704 non-null   float64\n",
      " 5   Grassi Saturi_g  1704 non-null   float64\n",
      " 6   Fibre_g          1704 non-null   float64\n",
      " 7   Colesterolo_mg   1704 non-null   float64\n",
      " 8   Sodio_mg         1704 non-null   float64\n",
      "dtypes: float64(8), object(1)\n",
      "memory usage: 153.0+ KB\n"
     ]
    }
   ],
   "source": [
    "df_nutrizione=pd.read_csv(\"tab_nutrizione.csv\")\n",
    "df_nutrizione.info()"
   ]
  },
  {
   "cell_type": "code",
   "execution_count": 48,
   "metadata": {},
   "outputs": [
    {
     "data": {
      "text/html": [
       "<div>\n",
       "<style scoped>\n",
       "    .dataframe tbody tr th:only-of-type {\n",
       "        vertical-align: middle;\n",
       "    }\n",
       "\n",
       "    .dataframe tbody tr th {\n",
       "        vertical-align: top;\n",
       "    }\n",
       "\n",
       "    .dataframe thead th {\n",
       "        text-align: right;\n",
       "    }\n",
       "</style>\n",
       "<table border=\"1\" class=\"dataframe\">\n",
       "  <thead>\n",
       "    <tr style=\"text-align: right;\">\n",
       "      <th></th>\n",
       "      <th>Nome_Piatto</th>\n",
       "      <th>Calorie_kcal</th>\n",
       "      <th>Carboidrati_g</th>\n",
       "      <th>Zuccheri_g</th>\n",
       "      <th>Grassi_g</th>\n",
       "      <th>Grassi Saturi_g</th>\n",
       "      <th>Fibre_g</th>\n",
       "      <th>Colesterolo_mg</th>\n",
       "      <th>Sodio_mg</th>\n",
       "    </tr>\n",
       "  </thead>\n",
       "  <tbody>\n",
       "    <tr>\n",
       "      <th>0</th>\n",
       "      <td>Biscotti alla paprika</td>\n",
       "      <td>117.0</td>\n",
       "      <td>8.1</td>\n",
       "      <td>0.4</td>\n",
       "      <td>7.8</td>\n",
       "      <td>3.99</td>\n",
       "      <td>0.5</td>\n",
       "      <td>43.0</td>\n",
       "      <td>80.0</td>\n",
       "    </tr>\n",
       "    <tr>\n",
       "      <th>1</th>\n",
       "      <td>Bastoncini di pasta sfoglia al formaggio</td>\n",
       "      <td>229.0</td>\n",
       "      <td>15.7</td>\n",
       "      <td>0.9</td>\n",
       "      <td>16.1</td>\n",
       "      <td>6.61</td>\n",
       "      <td>1.1</td>\n",
       "      <td>41.0</td>\n",
       "      <td>318.0</td>\n",
       "    </tr>\n",
       "    <tr>\n",
       "      <th>2</th>\n",
       "      <td>Brustengo</td>\n",
       "      <td>299.0</td>\n",
       "      <td>23.4</td>\n",
       "      <td>0.6</td>\n",
       "      <td>15.4</td>\n",
       "      <td>6.11</td>\n",
       "      <td>0.8</td>\n",
       "      <td>41.0</td>\n",
       "      <td>1365.0</td>\n",
       "    </tr>\n",
       "    <tr>\n",
       "      <th>3</th>\n",
       "      <td>Insalata tiepida di polpo e patate</td>\n",
       "      <td>456.0</td>\n",
       "      <td>41.7</td>\n",
       "      <td>5.1</td>\n",
       "      <td>19.5</td>\n",
       "      <td>3.54</td>\n",
       "      <td>4.1</td>\n",
       "      <td>162.0</td>\n",
       "      <td>836.0</td>\n",
       "    </tr>\n",
       "    <tr>\n",
       "      <th>4</th>\n",
       "      <td>Insalata di daikon e gamberi</td>\n",
       "      <td>317.0</td>\n",
       "      <td>5.7</td>\n",
       "      <td>5.1</td>\n",
       "      <td>28.1</td>\n",
       "      <td>5.32</td>\n",
       "      <td>2.7</td>\n",
       "      <td>157.0</td>\n",
       "      <td>611.0</td>\n",
       "    </tr>\n",
       "  </tbody>\n",
       "</table>\n",
       "</div>"
      ],
      "text/plain": [
       "                                Nome_Piatto  Calorie_kcal  Carboidrati_g  \\\n",
       "0                     Biscotti alla paprika         117.0            8.1   \n",
       "1  Bastoncini di pasta sfoglia al formaggio         229.0           15.7   \n",
       "2                                 Brustengo         299.0           23.4   \n",
       "3        Insalata tiepida di polpo e patate         456.0           41.7   \n",
       "4              Insalata di daikon e gamberi         317.0            5.7   \n",
       "\n",
       "   Zuccheri_g  Grassi_g  Grassi Saturi_g  Fibre_g  Colesterolo_mg  Sodio_mg  \n",
       "0         0.4       7.8             3.99      0.5            43.0      80.0  \n",
       "1         0.9      16.1             6.61      1.1            41.0     318.0  \n",
       "2         0.6      15.4             6.11      0.8            41.0    1365.0  \n",
       "3         5.1      19.5             3.54      4.1           162.0     836.0  \n",
       "4         5.1      28.1             5.32      2.7           157.0     611.0  "
      ]
     },
     "execution_count": 48,
     "metadata": {},
     "output_type": "execute_result"
    }
   ],
   "source": [
    "df_nutrizione.head()"
   ]
  },
  {
   "cell_type": "markdown",
   "metadata": {},
   "source": [
    "class Ingrediente(models.Model):\n",
    "  Nome = models.CharField(max_length=22)\n",
    "  Metodo_Preparazione = models.CharField(max_length=22,blank=True, null=True)\n",
    "  Flag_istamina=models.BooleanField(null=True)\n",
    "  Flag_nichel=models.BooleanField(null=True)\n",
    "  Flag_ferro=models.BooleanField(null=True)\n",
    "  Composizione=models.TextField(blank=True, null=True)"
   ]
  },
  {
   "cell_type": "code",
   "execution_count": 49,
   "metadata": {
    "scrolled": true
   },
   "outputs": [
    {
     "name": "stdout",
     "output_type": "stream",
     "text": [
      "<class 'pandas.core.frame.DataFrame'>\n",
      "RangeIndex: 22392 entries, 0 to 22391\n",
      "Data columns (total 4 columns):\n",
      " #   Column           Non-Null Count  Dtype \n",
      "---  ------           --------------  ----- \n",
      " 0   Ingrediente      22392 non-null  object\n",
      " 1   Quantita         22392 non-null  object\n",
      " 2   Unita di misura  22392 non-null  object\n",
      " 3   Nome Piatto      22392 non-null  object\n",
      "dtypes: object(4)\n",
      "memory usage: 699.9+ KB\n"
     ]
    }
   ],
   "source": [
    "df_ingredienti=pd.read_csv(\"tab_ingredienti_definitiva.csv\")\n",
    "df_ingredienti.info()"
   ]
  },
  {
   "cell_type": "code",
   "execution_count": 50,
   "metadata": {},
   "outputs": [
    {
     "data": {
      "text/html": [
       "<div>\n",
       "<style scoped>\n",
       "    .dataframe tbody tr th:only-of-type {\n",
       "        vertical-align: middle;\n",
       "    }\n",
       "\n",
       "    .dataframe tbody tr th {\n",
       "        vertical-align: top;\n",
       "    }\n",
       "\n",
       "    .dataframe thead th {\n",
       "        text-align: right;\n",
       "    }\n",
       "</style>\n",
       "<table border=\"1\" class=\"dataframe\">\n",
       "  <thead>\n",
       "    <tr style=\"text-align: right;\">\n",
       "      <th></th>\n",
       "      <th>Ingrediente</th>\n",
       "      <th>Quantita</th>\n",
       "      <th>Unita di misura</th>\n",
       "      <th>Nome Piatto</th>\n",
       "    </tr>\n",
       "  </thead>\n",
       "  <tbody>\n",
       "    <tr>\n",
       "      <th>0</th>\n",
       "      <td>Burro freddo</td>\n",
       "      <td>150</td>\n",
       "      <td>g</td>\n",
       "      <td>Biscotti alla paprika</td>\n",
       "    </tr>\n",
       "    <tr>\n",
       "      <th>1</th>\n",
       "      <td>Farina 00</td>\n",
       "      <td>250</td>\n",
       "      <td>g</td>\n",
       "      <td>Biscotti alla paprika</td>\n",
       "    </tr>\n",
       "    <tr>\n",
       "      <th>2</th>\n",
       "      <td>Parmigiano Reggiano DOP</td>\n",
       "      <td>100</td>\n",
       "      <td>g</td>\n",
       "      <td>Biscotti alla paprika</td>\n",
       "    </tr>\n",
       "    <tr>\n",
       "      <th>3</th>\n",
       "      <td>Uova (circa 2 medie)</td>\n",
       "      <td>100</td>\n",
       "      <td>g</td>\n",
       "      <td>Biscotti alla paprika</td>\n",
       "    </tr>\n",
       "    <tr>\n",
       "      <th>4</th>\n",
       "      <td>Lievito istantaneo per preparazioni salate</td>\n",
       "      <td>8</td>\n",
       "      <td>g</td>\n",
       "      <td>Biscotti alla paprika</td>\n",
       "    </tr>\n",
       "  </tbody>\n",
       "</table>\n",
       "</div>"
      ],
      "text/plain": [
       "                                   Ingrediente Quantita Unita di misura  \\\n",
       "0                                 Burro freddo      150               g   \n",
       "1                                    Farina 00      250               g   \n",
       "2                      Parmigiano Reggiano DOP      100               g   \n",
       "3                         Uova (circa 2 medie)      100               g   \n",
       "4   Lievito istantaneo per preparazioni salate        8               g   \n",
       "\n",
       "             Nome Piatto  \n",
       "0  Biscotti alla paprika  \n",
       "1  Biscotti alla paprika  \n",
       "2  Biscotti alla paprika  \n",
       "3  Biscotti alla paprika  \n",
       "4  Biscotti alla paprika  "
      ]
     },
     "execution_count": 50,
     "metadata": {},
     "output_type": "execute_result"
    }
   ],
   "source": [
    "df_ingredienti.head()"
   ]
  },
  {
   "cell_type": "code",
   "execution_count": 51,
   "metadata": {},
   "outputs": [],
   "source": [
    "df_piatto_tot=pd.merge(df_piatto,df_nutrizione,how='left',on='Nome_Piatto')"
   ]
  },
  {
   "cell_type": "code",
   "execution_count": 52,
   "metadata": {},
   "outputs": [
    {
     "name": "stdout",
     "output_type": "stream",
     "text": [
      "<class 'pandas.core.frame.DataFrame'>\n",
      "Int64Index: 2173 entries, 0 to 2172\n",
      "Data columns (total 15 columns):\n",
      " #   Column              Non-Null Count  Dtype  \n",
      "---  ------              --------------  -----  \n",
      " 0   Nome_Piatto         2173 non-null   object \n",
      " 1   Costo_Preparazione  2173 non-null   int64  \n",
      " 2   Categoria           2173 non-null   int64  \n",
      " 3   Descrizione         2173 non-null   object \n",
      " 4   Tempo_Preparazione  2173 non-null   int64  \n",
      " 5   Tempo_Cottura       2173 non-null   int64  \n",
      " 6   Ricetta             2172 non-null   object \n",
      " 7   Calorie_kcal        1702 non-null   float64\n",
      " 8   Carboidrati_g       1702 non-null   float64\n",
      " 9   Zuccheri_g          1702 non-null   float64\n",
      " 10  Grassi_g            1702 non-null   float64\n",
      " 11  Grassi Saturi_g     1702 non-null   float64\n",
      " 12  Fibre_g             1702 non-null   float64\n",
      " 13  Colesterolo_mg      1702 non-null   float64\n",
      " 14  Sodio_mg            1702 non-null   float64\n",
      "dtypes: float64(8), int64(4), object(3)\n",
      "memory usage: 271.6+ KB\n"
     ]
    }
   ],
   "source": [
    "df_piatto_tot.info()"
   ]
  },
  {
   "cell_type": "code",
   "execution_count": 53,
   "metadata": {},
   "outputs": [
    {
     "data": {
      "text/html": [
       "<div>\n",
       "<style scoped>\n",
       "    .dataframe tbody tr th:only-of-type {\n",
       "        vertical-align: middle;\n",
       "    }\n",
       "\n",
       "    .dataframe tbody tr th {\n",
       "        vertical-align: top;\n",
       "    }\n",
       "\n",
       "    .dataframe thead th {\n",
       "        text-align: right;\n",
       "    }\n",
       "</style>\n",
       "<table border=\"1\" class=\"dataframe\">\n",
       "  <thead>\n",
       "    <tr style=\"text-align: right;\">\n",
       "      <th></th>\n",
       "      <th>Nome_Piatto</th>\n",
       "      <th>Costo_Preparazione</th>\n",
       "      <th>Categoria</th>\n",
       "      <th>Descrizione</th>\n",
       "      <th>Tempo_Preparazione</th>\n",
       "      <th>Tempo_Cottura</th>\n",
       "      <th>Ricetta</th>\n",
       "      <th>Calorie_kcal</th>\n",
       "      <th>Carboidrati_g</th>\n",
       "      <th>Zuccheri_g</th>\n",
       "      <th>Grassi_g</th>\n",
       "      <th>Grassi Saturi_g</th>\n",
       "      <th>Fibre_g</th>\n",
       "      <th>Colesterolo_mg</th>\n",
       "      <th>Sodio_mg</th>\n",
       "    </tr>\n",
       "  </thead>\n",
       "  <tbody>\n",
       "    <tr>\n",
       "      <th>0</th>\n",
       "      <td>Biscotti alla paprika</td>\n",
       "      <td>0</td>\n",
       "      <td>0</td>\n",
       "      <td>I biscotti alla paprika sono dei deliziosi boc...</td>\n",
       "      <td>20</td>\n",
       "      <td>20</td>\n",
       "      <td>Per preparare i biscotti alla paprika iniziate...</td>\n",
       "      <td>117.0</td>\n",
       "      <td>8.1</td>\n",
       "      <td>0.4</td>\n",
       "      <td>7.8</td>\n",
       "      <td>3.99</td>\n",
       "      <td>0.5</td>\n",
       "      <td>43.0</td>\n",
       "      <td>80.0</td>\n",
       "    </tr>\n",
       "    <tr>\n",
       "      <th>1</th>\n",
       "      <td>Bastoncini di pasta sfoglia al formaggio</td>\n",
       "      <td>0</td>\n",
       "      <td>0</td>\n",
       "      <td>I bastoncini di pasta sfoglia al formaggio son...</td>\n",
       "      <td>20</td>\n",
       "      <td>0</td>\n",
       "      <td>Per preparare i bastoncini di sfoglia al forma...</td>\n",
       "      <td>229.0</td>\n",
       "      <td>15.7</td>\n",
       "      <td>0.9</td>\n",
       "      <td>16.1</td>\n",
       "      <td>6.61</td>\n",
       "      <td>1.1</td>\n",
       "      <td>41.0</td>\n",
       "      <td>318.0</td>\n",
       "    </tr>\n",
       "  </tbody>\n",
       "</table>\n",
       "</div>"
      ],
      "text/plain": [
       "                                Nome_Piatto  Costo_Preparazione  Categoria  \\\n",
       "0                     Biscotti alla paprika                   0          0   \n",
       "1  Bastoncini di pasta sfoglia al formaggio                   0          0   \n",
       "\n",
       "                                         Descrizione  Tempo_Preparazione  \\\n",
       "0  I biscotti alla paprika sono dei deliziosi boc...                  20   \n",
       "1  I bastoncini di pasta sfoglia al formaggio son...                  20   \n",
       "\n",
       "   Tempo_Cottura                                            Ricetta  \\\n",
       "0             20  Per preparare i biscotti alla paprika iniziate...   \n",
       "1              0  Per preparare i bastoncini di sfoglia al forma...   \n",
       "\n",
       "   Calorie_kcal  Carboidrati_g  Zuccheri_g  Grassi_g  Grassi Saturi_g  \\\n",
       "0         117.0            8.1         0.4       7.8             3.99   \n",
       "1         229.0           15.7         0.9      16.1             6.61   \n",
       "\n",
       "   Fibre_g  Colesterolo_mg  Sodio_mg  \n",
       "0      0.5            43.0      80.0  \n",
       "1      1.1            41.0     318.0  "
      ]
     },
     "execution_count": 53,
     "metadata": {},
     "output_type": "execute_result"
    }
   ],
   "source": [
    "df_piatto_tot.head(2)"
   ]
  },
  {
   "cell_type": "code",
   "execution_count": null,
   "metadata": {},
   "outputs": [],
   "source": []
  },
  {
   "cell_type": "code",
   "execution_count": 54,
   "metadata": {
    "scrolled": true
   },
   "outputs": [
    {
     "data": {
      "text/html": [
       "<div>\n",
       "<style scoped>\n",
       "    .dataframe tbody tr th:only-of-type {\n",
       "        vertical-align: middle;\n",
       "    }\n",
       "\n",
       "    .dataframe tbody tr th {\n",
       "        vertical-align: top;\n",
       "    }\n",
       "\n",
       "    .dataframe thead th {\n",
       "        text-align: right;\n",
       "    }\n",
       "</style>\n",
       "<table border=\"1\" class=\"dataframe\">\n",
       "  <thead>\n",
       "    <tr style=\"text-align: right;\">\n",
       "      <th></th>\n",
       "      <th>Nome_Piatto</th>\n",
       "      <th>Costo_Preparazione</th>\n",
       "      <th>Categoria</th>\n",
       "      <th>Descrizione</th>\n",
       "      <th>Tempo_Preparazione</th>\n",
       "      <th>Tempo_Cottura</th>\n",
       "      <th>Ricetta</th>\n",
       "      <th>Calorie_kcal</th>\n",
       "      <th>Carboidrati_g</th>\n",
       "      <th>Zuccheri_g</th>\n",
       "      <th>Grassi_g</th>\n",
       "      <th>Grassi Saturi_g</th>\n",
       "      <th>Fibre_g</th>\n",
       "      <th>Colesterolo_mg</th>\n",
       "      <th>Sodio_mg</th>\n",
       "    </tr>\n",
       "  </thead>\n",
       "  <tbody>\n",
       "  </tbody>\n",
       "</table>\n",
       "</div>"
      ],
      "text/plain": [
       "Empty DataFrame\n",
       "Columns: [Nome_Piatto, Costo_Preparazione, Categoria, Descrizione, Tempo_Preparazione, Tempo_Cottura, Ricetta, Calorie_kcal, Carboidrati_g, Zuccheri_g, Grassi_g, Grassi Saturi_g, Fibre_g, Colesterolo_mg, Sodio_mg]\n",
       "Index: []"
      ]
     },
     "execution_count": 54,
     "metadata": {},
     "output_type": "execute_result"
    }
   ],
   "source": [
    "df_piatto_tot.loc[df_piatto_tot.Nome_Piatto == None]"
   ]
  },
  {
   "cell_type": "code",
   "execution_count": 55,
   "metadata": {},
   "outputs": [],
   "source": [
    "def upd_qty(a):\n",
    "        try:\n",
    "            a=float(a)\n",
    "               \n",
    "        except:\n",
    "\n",
    "            a=0.0\n",
    "        return a"
   ]
  },
  {
   "cell_type": "code",
   "execution_count": 56,
   "metadata": {},
   "outputs": [],
   "source": [
    "df_ingredienti.Quantita=df_ingredienti.Quantita.apply(lambda a: upd_qty(a))"
   ]
  },
  {
   "cell_type": "code",
   "execution_count": 57,
   "metadata": {},
   "outputs": [],
   "source": [
    "df_ingredienti.Quantita=df_ingredienti.Quantita.astype(\"float\")"
   ]
  },
  {
   "cell_type": "markdown",
   "metadata": {},
   "source": [
    "nome_piatto=models.CharField(max_length=30)\n",
    "    ingredienti=models.ManyToManyField(Ingrediente_Piatto)\n",
    "    costo_preparazione = models.IntegerField(blank=True, null=True)\n",
    "    categoria = models.IntegerField(blank=True, null=True)\n",
    "    descrizione=models.TextField(blank=True, null=True)\n",
    "    tempo_preparazione = models.IntegerField(blank=True, null=True)\n",
    "    tempo_cottura = models.IntegerField(blank=True, null=True)\n",
    "    ricetta=models.TextField(blank=True, null=True)\n",
    "    Calorie_kcal=models.FloatField(blank=True, null=True)\n",
    "    Carboidrati_g=models.FloatField(blank=True, null=True)\n",
    "    Zuccheri_g=models.FloatField(blank=True, null=True)\n",
    "    Grassi_g=models.FloatField(blank=True, null=True)\n",
    "    Grassi_Saturi_g=models.FloatField(blank=True, null=True)\n",
    "    Fibre_g=models.FloatField(blank=True, null=True)\n",
    "    Colesterolo_m=models.FloatField(blank=True, null=True)\n",
    "    Sodio_mg=models.FloatField(blank=True, null=True)\n"
   ]
  },
  {
   "cell_type": "code",
   "execution_count": 58,
   "metadata": {},
   "outputs": [
    {
     "name": "stdout",
     "output_type": "stream",
     "text": [
      "<class 'pandas.core.frame.DataFrame'>\n",
      "RangeIndex: 22392 entries, 0 to 22391\n",
      "Data columns (total 4 columns):\n",
      " #   Column           Non-Null Count  Dtype  \n",
      "---  ------           --------------  -----  \n",
      " 0   Ingrediente      22392 non-null  object \n",
      " 1   Quantita         22392 non-null  float64\n",
      " 2   Unita di misura  22392 non-null  object \n",
      " 3   Nome Piatto      22392 non-null  object \n",
      "dtypes: float64(1), object(3)\n",
      "memory usage: 699.9+ KB\n"
     ]
    }
   ],
   "source": [
    "df_ingredienti.info()"
   ]
  },
  {
   "cell_type": "code",
   "execution_count": 59,
   "metadata": {},
   "outputs": [
    {
     "data": {
      "text/html": [
       "<div>\n",
       "<style scoped>\n",
       "    .dataframe tbody tr th:only-of-type {\n",
       "        vertical-align: middle;\n",
       "    }\n",
       "\n",
       "    .dataframe tbody tr th {\n",
       "        vertical-align: top;\n",
       "    }\n",
       "\n",
       "    .dataframe thead th {\n",
       "        text-align: right;\n",
       "    }\n",
       "</style>\n",
       "<table border=\"1\" class=\"dataframe\">\n",
       "  <thead>\n",
       "    <tr style=\"text-align: right;\">\n",
       "      <th></th>\n",
       "      <th>Ingrediente</th>\n",
       "      <th>Quantita</th>\n",
       "      <th>Unita di misura</th>\n",
       "      <th>Nome Piatto</th>\n",
       "    </tr>\n",
       "  </thead>\n",
       "  <tbody>\n",
       "    <tr>\n",
       "      <th>0</th>\n",
       "      <td>Burro freddo</td>\n",
       "      <td>150.0</td>\n",
       "      <td>g</td>\n",
       "      <td>Biscotti alla paprika</td>\n",
       "    </tr>\n",
       "    <tr>\n",
       "      <th>1</th>\n",
       "      <td>Farina 00</td>\n",
       "      <td>250.0</td>\n",
       "      <td>g</td>\n",
       "      <td>Biscotti alla paprika</td>\n",
       "    </tr>\n",
       "  </tbody>\n",
       "</table>\n",
       "</div>"
      ],
      "text/plain": [
       "     Ingrediente  Quantita Unita di misura            Nome Piatto\n",
       "0   Burro freddo     150.0               g  Biscotti alla paprika\n",
       "1      Farina 00     250.0               g  Biscotti alla paprika"
      ]
     },
     "execution_count": 59,
     "metadata": {},
     "output_type": "execute_result"
    }
   ],
   "source": [
    "df_ingredienti.head(2)"
   ]
  },
  {
   "cell_type": "code",
   "execution_count": 60,
   "metadata": {},
   "outputs": [
    {
     "data": {
      "text/plain": [
       "Index(['Nome_Piatto', 'Costo_Preparazione', 'Categoria', 'Descrizione',\n",
       "       'Tempo_Preparazione', 'Tempo_Cottura', 'Ricetta', 'Calorie_kcal',\n",
       "       'Carboidrati_g', 'Zuccheri_g', 'Grassi_g', 'Grassi Saturi_g', 'Fibre_g',\n",
       "       'Colesterolo_mg', 'Sodio_mg'],\n",
       "      dtype='object')"
      ]
     },
     "execution_count": 60,
     "metadata": {},
     "output_type": "execute_result"
    }
   ],
   "source": [
    "df_piatto_tot.columns"
   ]
  },
  {
   "cell_type": "code",
   "execution_count": 61,
   "metadata": {},
   "outputs": [],
   "source": [
    "for i in range(len(df_piatto_tot)):\n",
    "   Piatti(nome_piatto = df_piatto_tot.iloc[i][0], \n",
    "         costo_preparazione = df_piatto_tot.iloc[i][1],categoria = df_piatto_tot.iloc[i][2],\n",
    "         descrizione = df_piatto_tot.iloc[i][3], tempo_preparazione = df_piatto_tot.iloc[i][4],\n",
    "         tempo_cottura = df_piatto_tot.iloc[i][5],ricetta = df_piatto_tot.iloc[i][6],\n",
    "         Calorie_kcal= df_piatto_tot.iloc[i][7],Carboidrati_g= df_piatto_tot.iloc[i][8],\n",
    "         Zuccheri_g= df_piatto_tot.iloc[i][9],Grassi_g= df_piatto_tot.iloc[i][10],\n",
    "         Grassi_Saturi_g= df_piatto_tot.iloc[i][11],Fibre_g= df_piatto_tot.iloc[i][12],\n",
    "         Colesterolo_m= df_piatto_tot.iloc[i][13],Sodio_mg= df_piatto_tot.iloc[i][14]).save()\n",
    "   "
   ]
  },
  {
   "cell_type": "code",
   "execution_count": 19,
   "metadata": {},
   "outputs": [
    {
     "data": {
      "text/plain": [
       "<QuerySet [<Piatti: Biscotti alla paprika>, <Piatti: Bastoncini di pasta sfoglia al formaggio>, <Piatti: Brustengo>, <Piatti: Insalata tiepida di polpo e patate>, <Piatti: Insalata di daikon e gamberi>, <Piatti: Temaki di salmone>, <Piatti: Cozze alla tarantina>, <Piatti: Torta salata alla barbabietola>, <Piatti: Zucchine fritte>, <Piatti: Gamberi al cocco>, <Piatti: Avocado, uova e salmone>, <Piatti: Insalata di frutta>, <Piatti: Poke>, <Piatti: Crostino vegano>, <Piatti: Melanzane sott'olio>, <Piatti: Roselline di prosciutto crudo su fichi>, <Piatti: Hummus>, <Piatti: Caprese sfiziosa con salsa all'origano>, <Piatti: Supplì al telefono>, <Piatti: Crocchette di patate al forno>, '...(remaining elements truncated)...']>"
      ]
     },
     "execution_count": 19,
     "metadata": {},
     "output_type": "execute_result"
    }
   ],
   "source": [
    "Piatti.objects.all()"
   ]
  },
  {
   "cell_type": "markdown",
   "metadata": {},
   "source": [
    "Nome = models.CharField(max_length=22)\n",
    "  Flag_istamina=models.BooleanField(null=True)\n",
    "  Flag_nichel=models.BooleanField(null=True)\n",
    "  Flag_ferro=models.BooleanField(null=True)\n",
    "  Note=models.TextField(blank=True, null=True)"
   ]
  },
  {
   "cell_type": "markdown",
   "metadata": {},
   "source": [
    "for i in range(len(df_ingredienti)):\n",
    "       Ingrediente(Nome = df_ingredienti.iloc[i][0]).save()"
   ]
  },
  {
   "cell_type": "code",
   "execution_count": 20,
   "metadata": {},
   "outputs": [
    {
     "name": "stdout",
     "output_type": "stream",
     "text": [
      "<class 'pandas.core.frame.DataFrame'>\n",
      "RangeIndex: 22392 entries, 0 to 22391\n",
      "Data columns (total 4 columns):\n",
      " #   Column           Non-Null Count  Dtype  \n",
      "---  ------           --------------  -----  \n",
      " 0   Ingrediente      22392 non-null  object \n",
      " 1   Quantita         22392 non-null  float64\n",
      " 2   Unita di misura  22392 non-null  object \n",
      " 3   Nome Piatto      22392 non-null  object \n",
      "dtypes: float64(1), object(3)\n",
      "memory usage: 699.9+ KB\n"
     ]
    }
   ],
   "source": [
    "df_ingredienti.info()"
   ]
  },
  {
   "cell_type": "markdown",
   "metadata": {},
   "source": [
    "ass Ingrediente_Piatto(models.Model):\n",
    "  Nome = models.ForeignKey(Ingrediente, on_delete=models.CASCADE)\n",
    "  Metodo_Preparazione = models.CharField(max_length=22,blank=True, null=True)\n",
    "  Quantità = models.FloatField()\n",
    "  UM=models.TextField(max_length=5,blank=True, null=True)"
   ]
  },
  {
   "cell_type": "code",
   "execution_count": 26,
   "metadata": {},
   "outputs": [
    {
     "data": {
      "text/html": [
       "<div>\n",
       "<style scoped>\n",
       "    .dataframe tbody tr th:only-of-type {\n",
       "        vertical-align: middle;\n",
       "    }\n",
       "\n",
       "    .dataframe tbody tr th {\n",
       "        vertical-align: top;\n",
       "    }\n",
       "\n",
       "    .dataframe thead th {\n",
       "        text-align: right;\n",
       "    }\n",
       "</style>\n",
       "<table border=\"1\" class=\"dataframe\">\n",
       "  <thead>\n",
       "    <tr style=\"text-align: right;\">\n",
       "      <th></th>\n",
       "      <th>Ingrediente</th>\n",
       "      <th>Quantita</th>\n",
       "      <th>Unita di misura</th>\n",
       "      <th>Nome Piatto</th>\n",
       "    </tr>\n",
       "  </thead>\n",
       "  <tbody>\n",
       "    <tr>\n",
       "      <th>0</th>\n",
       "      <td>Burro freddo</td>\n",
       "      <td>150.0</td>\n",
       "      <td>g</td>\n",
       "      <td>Biscotti alla paprika</td>\n",
       "    </tr>\n",
       "    <tr>\n",
       "      <th>1</th>\n",
       "      <td>Farina 00</td>\n",
       "      <td>250.0</td>\n",
       "      <td>g</td>\n",
       "      <td>Biscotti alla paprika</td>\n",
       "    </tr>\n",
       "  </tbody>\n",
       "</table>\n",
       "</div>"
      ],
      "text/plain": [
       "     Ingrediente  Quantita Unita di misura            Nome Piatto\n",
       "0   Burro freddo     150.0               g  Biscotti alla paprika\n",
       "1      Farina 00     250.0               g  Biscotti alla paprika"
      ]
     },
     "execution_count": 26,
     "metadata": {},
     "output_type": "execute_result"
    }
   ],
   "source": [
    "df_ingredienti.head(2)"
   ]
  },
  {
   "cell_type": "code",
   "execution_count": 27,
   "metadata": {},
   "outputs": [
    {
     "data": {
      "text/plain": [
       "'Biscotti alla paprika'"
      ]
     },
     "execution_count": 27,
     "metadata": {},
     "output_type": "execute_result"
    }
   ],
   "source": [
    "df_ingredienti.iloc[0][3]"
   ]
  },
  {
   "cell_type": "code",
   "execution_count": 35,
   "metadata": {},
   "outputs": [],
   "source": [
    "P=Piatti.objects.get(nome_piatto='Rotolo al cacao con crema al latte')"
   ]
  },
  {
   "cell_type": "code",
   "execution_count": 40,
   "metadata": {},
   "outputs": [
    {
     "name": "stdout",
     "output_type": "stream",
     "text": [
      "Rotolo al cacao con crema al latte\n",
      "None\n"
     ]
    },
    {
     "ename": "AttributeError",
     "evalue": "'NoneType' object has no attribute 'add'",
     "output_type": "error",
     "traceback": [
      "\u001b[1;31m---------------------------------------------------------------------------\u001b[0m",
      "\u001b[1;31mAttributeError\u001b[0m                            Traceback (most recent call last)",
      "\u001b[1;32mC:\\Users\\ALESSA~1\\AppData\\Local\\Temp/ipykernel_3324/1015439134.py\u001b[0m in \u001b[0;36m<module>\u001b[1;34m\u001b[0m\n\u001b[0;32m      8\u001b[0m \u001b[0mprint\u001b[0m\u001b[1;33m(\u001b[0m\u001b[0mPt_ob\u001b[0m\u001b[1;33m)\u001b[0m\u001b[1;33m\u001b[0m\u001b[1;33m\u001b[0m\u001b[0m\n\u001b[0;32m      9\u001b[0m \u001b[0mprint\u001b[0m\u001b[1;33m(\u001b[0m\u001b[0mPt_ob\u001b[0m\u001b[1;33m.\u001b[0m\u001b[0mingredienti\u001b[0m\u001b[1;33m)\u001b[0m\u001b[1;33m\u001b[0m\u001b[1;33m\u001b[0m\u001b[0m\n\u001b[1;32m---> 10\u001b[1;33m \u001b[0mPt_ob\u001b[0m\u001b[1;33m.\u001b[0m\u001b[0mingredienti\u001b[0m\u001b[1;33m.\u001b[0m\u001b[0madd\u001b[0m\u001b[1;33m(\u001b[0m\u001b[0mI_Pt\u001b[0m\u001b[1;33m)\u001b[0m\u001b[1;33m\u001b[0m\u001b[1;33m\u001b[0m\u001b[0m\n\u001b[0m",
      "\u001b[1;31mAttributeError\u001b[0m: 'NoneType' object has no attribute 'add'"
     ]
    }
   ],
   "source": [
    "I_ingr=Ingrediente(Nome ='Rotolo al cacao con crema al latte')\n",
    "I_ingr.save()\n",
    "I_Pt=Ingrediente_Piatto(Nome =  I_ingr, \n",
    "       Quantità = 2,\n",
    "       UM = 'aa')\n",
    "I_Pt.save()\n",
    "Pt_ob=Piatti.objects.get(nome_piatto='Rotolo al cacao con crema al latte')\n",
    "print(Pt_ob)\n",
    "print(Pt_ob.ingredienti)\n",
    "Pt_ob.ingredienti.add(I_Pt)"
   ]
  },
  {
   "cell_type": "code",
   "execution_count": 62,
   "metadata": {},
   "outputs": [],
   "source": [
    "for i in range(len(df_ingredienti)):\n",
    "    I_ingr=Ingrediente(Nome =df_ingredienti.iloc[i][0])\n",
    "    I_ingr.save()\n",
    "    I_Pt=Ingrediente_Piatto(Nome =  I_ingr, \n",
    "       Quantità = df_ingredienti.iloc[i][1],\n",
    "       UM = df_ingredienti.iloc[i][2])\n",
    "    I_Pt.save()\n",
    "    #try:\n",
    "     #  Pt_ob=Piatti.objects.get(nome_piatto=df_ingredienti.iloc[i][3])\n",
    "       #print(Pt_ob)\n",
    "     #  Pt_ob.ingredienti.add(I_Pt)\n",
    "    #except:\n",
    "    #    print(\"Nome Piatto not found:\")\n",
    "     #   print(df_ingredienti.iloc[i][3])"
   ]
  },
  {
   "cell_type": "code",
   "execution_count": null,
   "metadata": {},
   "outputs": [],
   "source": [
    "for i in range(len(df_piatto_tot)):\n",
    "        "
   ]
  },
  {
   "cell_type": "code",
   "execution_count": 41,
   "metadata": {},
   "outputs": [
    {
     "data": {
      "text/plain": [
       "(2173, {'dieta.Piatti': 2173})"
      ]
     },
     "execution_count": 41,
     "metadata": {},
     "output_type": "execute_result"
    }
   ],
   "source": [
    "Ingrediente.objects.all().delete()\n",
    "Ingrediente_Piatto.objects.all().delete()\n",
    "Piatti.objects.all().delete()"
   ]
  },
  {
   "cell_type": "code",
   "execution_count": null,
   "metadata": {},
   "outputs": [],
   "source": []
  },
  {
   "cell_type": "code",
   "execution_count": null,
   "metadata": {},
   "outputs": [],
   "source": []
  }
 ],
 "metadata": {
  "kernelspec": {
   "display_name": "Django Shell-Plus",
   "language": "python",
   "name": "django_extensions"
  },
  "language_info": {
   "codemirror_mode": {
    "name": "ipython",
    "version": 3
   },
   "file_extension": ".py",
   "mimetype": "text/x-python",
   "name": "python",
   "nbconvert_exporter": "python",
   "pygments_lexer": "ipython3",
   "version": "3.9.6"
  }
 },
 "nbformat": 4,
 "nbformat_minor": 4
}
